{
 "cells": [
  {
   "cell_type": "markdown",
   "metadata": {},
   "source": [
    "# Домашнее задание №4\n",
    "\n",
    "Это домашнее задание можно выполнять целиком в этом ноутбуке, либо алгоритмы написать в отдельном файле и импортировать сюда, для использования. В папке data лежат два файла islands.fasta и nonIslands.fasta. В них хранятся прочтения из CpG островков и из обычных участков генома соответственно, этими данными нужно будет воспользоваться в первом задании."
   ]
  },
  {
   "cell_type": "markdown",
   "metadata": {},
   "source": [
    "## Задача №1 (1)\n",
    "Определите частоты генерации для каждого из нуклеотидов внутри CpG островков и вне их. Посчитайте так-же частоты для всех упорядоченных пар нуклеотидов и сравните частоту пары CG внутри островков и снаружи. Сделайте вывод. "
   ]
  },
  {
   "cell_type": "code",
   "execution_count": 1,
   "metadata": {},
   "outputs": [],
   "source": [
    "from Bio import SeqIO\n",
    "import numpy as np\n",
    "import random\n",
    "import copy\n",
    "from matplotlib import pyplot as plt\n",
    "from sklearn.metrics import confusion_matrix"
   ]
  },
  {
   "cell_type": "code",
   "execution_count": 2,
   "metadata": {},
   "outputs": [],
   "source": [
    "def load(fname):\n",
    "    seqs = []\n",
    "    for record in SeqIO.parse(fname, \"fasta\"):\n",
    "        seqs.append(record.seq)\n",
    "    return seqs"
   ]
  },
  {
   "cell_type": "code",
   "execution_count": 3,
   "metadata": {},
   "outputs": [],
   "source": [
    "islands = load(\"data/islands.fasta\")\n",
    "nonislands = load(\"data/nonIslands.fasta\")"
   ]
  },
  {
   "cell_type": "code",
   "execution_count": 4,
   "metadata": {},
   "outputs": [
    {
     "data": {
      "text/plain": [
       "(1828, 1)"
      ]
     },
     "execution_count": 4,
     "metadata": {},
     "output_type": "execute_result"
    }
   ],
   "source": [
    "len(islands), len(nonislands)"
   ]
  },
  {
   "cell_type": "code",
   "execution_count": 5,
   "metadata": {},
   "outputs": [
    {
     "name": "stdout",
     "output_type": "stream",
     "text": [
      "total islands data length: 3656000\n",
      "total nonislands data length: 212393\n"
     ]
    }
   ],
   "source": [
    "print(\"total islands data length:\", sum(map(len, islands)))\n",
    "print(\"total nonislands data length:\", sum(map(len, nonislands)))"
   ]
  },
  {
   "cell_type": "code",
   "execution_count": 6,
   "metadata": {},
   "outputs": [],
   "source": [
    "def freq_single(seqs, normalize=True):\n",
    "    cnt = {k:0 for k in \"ACGT\"}\n",
    "    for s in seqs:\n",
    "        for c in s:\n",
    "            cnt[c] += 1\n",
    "    if normalize:\n",
    "        total = sum(cnt.values())\n",
    "        for k in cnt:\n",
    "            cnt[k] /= total\n",
    "    return cnt\n",
    "\n",
    "\n",
    "def freq_double(seqs, normalize=True):\n",
    "    cnt = {k:{x:0 for x in \"ACGT\"} for k in \"ACGT\"}\n",
    "    for s in seqs:\n",
    "        for i in range(len(s) - 1):\n",
    "            cnt[s[i]][s[i + 1]] += 1\n",
    "    if normalize:\n",
    "        for x in cnt:\n",
    "            total = sum(cnt[x].values())\n",
    "            for y in cnt[x]:\n",
    "                cnt[x][y] /= total\n",
    "    return cnt\n",
    "\n",
    "\n",
    "def get_log_freq(freq):\n",
    "    def log_freq_inplace(freq):\n",
    "        for k in freq:\n",
    "            if isinstance(freq[k], dict):\n",
    "                log_freq_inplace(freq[k])\n",
    "            else:\n",
    "                freq[k] = np.log(freq[k])\n",
    "    freq = copy.deepcopy(freq)\n",
    "    log_freq_inplace(freq)\n",
    "    return freq"
   ]
  },
  {
   "cell_type": "code",
   "execution_count": 7,
   "metadata": {},
   "outputs": [],
   "source": [
    "freq_islands = freq_double(islands)"
   ]
  },
  {
   "cell_type": "code",
   "execution_count": 8,
   "metadata": {},
   "outputs": [],
   "source": [
    "freq_nonislands = freq_double(nonislands)"
   ]
  },
  {
   "cell_type": "code",
   "execution_count": 9,
   "metadata": {},
   "outputs": [
    {
     "name": "stdout",
     "output_type": "stream",
     "text": [
      "islands CG freq: 0.1989877830473048\n",
      "nonislands CG freq: 0.026909597196216814\n"
     ]
    }
   ],
   "source": [
    "print(\"islands CG freq:\", freq_islands['C']['G'])\n",
    "print(\"nonislands CG freq:\", freq_nonislands['C']['G'])"
   ]
  },
  {
   "cell_type": "markdown",
   "metadata": {},
   "source": [
    "`islands CG freq: 0.1989877830473048 >> nonislands CG freq: 0.026909597196216814`, что и ожидается от CpG островков."
   ]
  },
  {
   "cell_type": "markdown",
   "metadata": {},
   "source": [
    "## Задача №2 (2)\n",
    "Напишите марковскую модель, которая имеет открытые состояния {A, T, G, C}, и скрытые состояния {+, -}. Когда модель в состоянии **+**, то вероятность генерации некоторого символа нуклеотида соответствует его частоте внутри CpG островков, вычислиному в первом задании, если состояние **-**, то частоте вне островков. Вероятность остаться внутри островка 0.95, а перейти в обычный геном 0.05. Для остальной части генома соответствующие вероятности 0.995 и 0.005. Саму модель можно реализовать в виде итератора, определив метод next, который возвращает пару - состояние и нуклеотид, который в этом состоянии произведен.    \n",
    "Воспользуйтесь данной моделью для того чтобы сгенерировать набор из 20 последовательностей длинной от 1 000 до 100 000, причем к каждой последовательности должна прилагаться последовательность состояний."
   ]
  },
  {
   "cell_type": "code",
   "execution_count": 10,
   "metadata": {},
   "outputs": [],
   "source": [
    "def generator_single(freq_islands, freq_nonislands, transition_matrix):\n",
    "    freq = (freq_nonislands, freq_islands)\n",
    "    state = random.choice([0, 1])\n",
    "    cur_freq = freq[state]\n",
    "    letter, = random.choices(tuple(cur_freq.keys()), tuple(cur_freq.values()))\n",
    "    while True:\n",
    "        yield state, letter\n",
    "        state,  = random.choices([0, 1], transition_matrix[state])\n",
    "        cur_freq = freq[state]\n",
    "        letter,  = random.choices(tuple(cur_freq.keys()), tuple(cur_freq.values()))\n",
    "\n",
    "        \n",
    "def generator_double(single_freq_islands, single_freq_nonislands,\n",
    "                     double_freq_islands, double_freq_nonislands,\n",
    "                     transition_matrix):\n",
    "    freq = (double_freq_nonislands, double_freq_islands)\n",
    "    state = np.random.choice([0, 1])\n",
    "    cur_freq = (single_freq_nonislands, single_freq_islands)[state]\n",
    "    letter, = random.choices(tuple(cur_freq.keys()), tuple(cur_freq.values()))\n",
    "    while True:\n",
    "        yield state, letter\n",
    "        state, = random.choices([0, 1], transition_matrix[state])\n",
    "        cur_freq = freq[state][letter]\n",
    "        letter, = random.choices(tuple(cur_freq.keys()), tuple(cur_freq.values()))"
   ]
  },
  {
   "cell_type": "code",
   "execution_count": 11,
   "metadata": {},
   "outputs": [],
   "source": [
    "transition_matrix = np.array([[0.005, 0.995], [0.95, 0.05]])\n",
    "single_freq_islands = freq_single(islands)\n",
    "single_freq_nonislands = freq_single(nonislands)\n",
    "double_freq_islands = freq_double(islands)\n",
    "double_freq_nonislands = freq_double(nonislands)\n",
    "\n",
    "gen = generator_double(single_freq_islands, single_freq_nonislands,\n",
    "                       double_freq_islands, double_freq_nonislands,\n",
    "                       transition_matrix)"
   ]
  },
  {
   "cell_type": "code",
   "execution_count": 12,
   "metadata": {},
   "outputs": [],
   "source": [
    "random.seed(42)\n",
    "\n",
    "data = []\n",
    "n = 20\n",
    "min_len = 1000\n",
    "max_len = 100000\n",
    "\n",
    "for i in range(n):\n",
    "    gen = generator_double(single_freq_islands, single_freq_nonislands,\n",
    "                           double_freq_islands, double_freq_nonislands,\n",
    "                           transition_matrix)\n",
    "    length = random.randint(min_len, max_len)\n",
    "    x = []\n",
    "    pi = []\n",
    "    for _ in range(length):\n",
    "        a, b = next(gen)\n",
    "        pi.append(a)\n",
    "        x.append(b)\n",
    "    data.append([x, np.array(pi)])"
   ]
  },
  {
   "cell_type": "code",
   "execution_count": 13,
   "metadata": {},
   "outputs": [
    {
     "name": "stdout",
     "output_type": "stream",
     "text": [
      "total data length: 1057487\n"
     ]
    }
   ],
   "source": [
    "print(\"total data length:\", sum(map(lambda x: len(x[0]), data)))"
   ]
  },
  {
   "cell_type": "markdown",
   "metadata": {},
   "source": [
    "## Задача №3 (4)\n",
    "Напишите алгоритм Витерби для восстановления последовательности скрытых состояний марковской модели из второго задаания. Воспользуйтесь им, воссстановив состояния тех последовательностей, которые вы получили во втором задании и посчитайте TP, TN, FP, FN по количеству правильно или ошибочно предсказанных позиций из CpG остравков. "
   ]
  },
  {
   "cell_type": "code",
   "execution_count": 14,
   "metadata": {},
   "outputs": [],
   "source": [
    "def viterbi(x, \n",
    "            single_freq_islands, single_freq_nonislands,\n",
    "            double_freq_islands, double_freq_nonislands,\n",
    "            transition_matrix, init_pi = (0.5, 0.5)):\n",
    "    \n",
    "    n = len(x)\n",
    "    \n",
    "    dp = np.zeros((n, 2))\n",
    "    dp[0, 0] = np.log(single_freq_nonislands[x[0]] * init_pi[0])\n",
    "    dp[0, 1] = np.log(single_freq_islands[x[0]] * init_pi[1])\n",
    "    \n",
    "    log_freq = (get_log_freq(double_freq_nonislands), get_log_freq(double_freq_islands))\n",
    "    log_transition_matrix = np.log(transition_matrix)\n",
    "    \n",
    "    for i in range(1, n):\n",
    "        for k in (0, 1):\n",
    "            log_e_k = log_freq[k][x[i - 1]][x[i]]\n",
    "            dp[i, k] = log_e_k + np.max(dp[i - 1, ...] + log_transition_matrix[..., k])\n",
    "            \n",
    "    states = np.zeros(n, dtype=int)\n",
    "    states[n - 1] = np.argmax(dp[n - 1])\n",
    "    for i in range(n - 2, -1, -1):\n",
    "        states[i] = np.argmax(dp[i, ...] + log_transition_matrix[..., states[i + 1]])\n",
    "    return states"
   ]
  },
  {
   "cell_type": "code",
   "execution_count": 15,
   "metadata": {},
   "outputs": [],
   "source": [
    "def print_cm(cm):\n",
    "    print(\"tn: {}, fp: {}, fn: {}, tp: {}\".format(*cm.ravel()))"
   ]
  },
  {
   "cell_type": "code",
   "execution_count": 16,
   "metadata": {},
   "outputs": [
    {
     "name": "stdout",
     "output_type": "stream",
     "text": [
      "tn: 401672, fp: 114822, fn: 123384, tp: 417609\n"
     ]
    }
   ],
   "source": [
    "cm_viterbi = np.zeros((2, 2), dtype=int)\n",
    "for x, pi in data:\n",
    "    pi_star = viterbi(x,\n",
    "                      single_freq_islands, single_freq_nonislands,\n",
    "                      double_freq_islands, double_freq_nonislands,\n",
    "                      transition_matrix)\n",
    "    cm_viterbi += confusion_matrix(pi, pi_star)\n",
    "print_cm(cm_viterbi)"
   ]
  },
  {
   "cell_type": "markdown",
   "metadata": {},
   "source": [
    "## Задача №4 (4)\n",
    "Напишите алгоритм вперед назад для модели из второго задания. Пользуясь этим алгоритмом найдите вероятности того, что модель находилась в состоянии **+** для каждой позиции строк из второго задания. Устанавливая различные пороговые значения, определите позиции соответствующие CpG островкам и посчитайте TP. Постройте график зависимости TP от выбранного порогового значения. Есть ли пороговые значения при которых TP больше чем в задании №3?"
   ]
  },
  {
   "cell_type": "code",
   "execution_count": 17,
   "metadata": {},
   "outputs": [],
   "source": [
    "def log_sum_exp(x):\n",
    "    mx = np.max(x)\n",
    "    return mx + np.log(np.exp(x - mx).sum())\n",
    "\n",
    "\n",
    "def forward(x, \n",
    "            single_freq_islands, single_freq_nonislands,\n",
    "            double_freq_islands, double_freq_nonislands,\n",
    "            transition_matrix, init_pi = (0.5, 0.5)):\n",
    "    \n",
    "    n = len(x)\n",
    "    dp = np.zeros((n, 2))\n",
    "    dp[0, 0] = np.log(single_freq_nonislands[x[0]] * init_pi[0])\n",
    "    dp[0, 1] = np.log(single_freq_islands[x[0]] * init_pi[1])\n",
    "\n",
    "    log_freq = (get_log_freq(double_freq_nonislands), get_log_freq(double_freq_islands))\n",
    "    log_transition_matrix = np.log(transition_matrix)\n",
    "    \n",
    "    for i in range(1, n):\n",
    "        for k in (0, 1):\n",
    "            log_e_k = log_freq[k][x[i - 1]][x[i]]\n",
    "            dp[i, k] = log_e_k + log_sum_exp(dp[i - 1, ...] + log_transition_matrix[..., k])\n",
    "    return dp\n",
    "\n",
    "\n",
    "def backward(x, \n",
    "            single_freq_islands, single_freq_nonislands,\n",
    "            double_freq_islands, double_freq_nonislands,\n",
    "            transition_matrix, init_pi = (0.5, 0.5)):\n",
    "    \n",
    "    n = len(x)\n",
    "    dp = np.zeros((n, 2))\n",
    "    \n",
    "    log_freq = (get_log_freq(double_freq_nonislands), get_log_freq(double_freq_islands))\n",
    "    log_transition_matrix = np.log(transition_matrix)\n",
    "    \n",
    "    dp[n - 1, 0] = np.log(init_pi[0])\n",
    "    dp[n - 1, 1] = np.log(init_pi[1])\n",
    "    \n",
    "    for i in range(n - 2, -1, -1):\n",
    "        for k in (0, 1):\n",
    "            e_k = np.array([log_freq[t][x[i]][x[i + 1]] for t in (0, 1)])\n",
    "            dp[i, k] = log_sum_exp(e_k + dp[i + 1, ...] + log_transition_matrix[k, ...])\n",
    "    \n",
    "    log_px = log_sum_exp([\n",
    "        np.log(init_pi[0]) + np.log(single_freq_nonislands[x[0]]) + dp[0, 0],\n",
    "        np.log(init_pi[1]) + np.log(single_freq_islands[x[0]]) + dp[0, 1]\n",
    "    ])\n",
    "    return dp, log_px"
   ]
  },
  {
   "cell_type": "code",
   "execution_count": 18,
   "metadata": {},
   "outputs": [],
   "source": [
    "scores = []\n",
    "for x, pi in data:\n",
    "    log_f = forward(x, single_freq_islands, single_freq_nonislands,\n",
    "        double_freq_islands, double_freq_nonislands,\n",
    "        transition_matrix, init_pi=(0.5, 0.5))\n",
    "    log_b, log_px = backward(x, single_freq_islands, single_freq_nonislands,\n",
    "            double_freq_islands, double_freq_nonislands,\n",
    "            transition_matrix, init_pi=(0.5, 0.5))\n",
    "    log_score = log_f + log_b - log_px\n",
    "    scores.append(np.exp(log_score))\n",
    "    assert np.allclose(scores[-1].sum(1), 1)"
   ]
  },
  {
   "cell_type": "code",
   "execution_count": 19,
   "metadata": {},
   "outputs": [],
   "source": [
    "m = 21\n",
    "\n",
    "thresholds = np.linspace(0, 1, m)\n",
    "cm_fb = np.zeros((m, 2, 2))\n",
    "\n",
    "for i, t in enumerate(thresholds):\n",
    "    for (_, pi), score in zip(data, scores):\n",
    "        pi_star = score[..., 1] > t\n",
    "        cm_fb[i] += confusion_matrix(pi, pi_star)"
   ]
  },
  {
   "cell_type": "code",
   "execution_count": 20,
   "metadata": {},
   "outputs": [
    {
     "data": {
      "image/png": "[encoded data removed]",
      "text/plain": [
       "<Figure size 720x720 with 1 Axes>"
      ]
     },
     "metadata": {
      "needs_background": "light"
     },
     "output_type": "display_data"
    }
   ],
   "source": [
    "plt.figure(figsize=(10, 10))\n",
    "plt.plot(thresholds, cm_fb[..., 1, 1], \"o-\", label=\"tp\")\n",
    "plt.plot(thresholds, cm_fb[..., 0, 0], \"o-\", label=\"tn\")\n",
    "plt.plot(thresholds, [cm_viterbi[1, 1]] * m, \"o-\", label=\"tp viterbi\")\n",
    "plt.plot(thresholds, [cm_viterbi[0, 0]] * m, \"o-\", label=\"tn viterbi\")\n",
    "plt.xticks(thresholds)\n",
    "plt.vlines(0.55, 0, cm_fb[0, 1, 1], \"b\")\n",
    "plt.legend();"
   ]
  },
  {
   "cell_type": "code",
   "execution_count": 21,
   "metadata": {},
   "outputs": [
    {
     "name": "stdout",
     "output_type": "stream",
     "text": [
      "forward backward\n",
      "tn: 432728, fp: 83766, fn: 115408, tp: 425585\n"
     ]
    }
   ],
   "source": [
    "print(\"forward backward\")\n",
    "threshold = 0.55\n",
    "cm = np.zeros((2, 2), dtype=int)\n",
    "for (_, pi), score in zip(data, scores):\n",
    "    pi_star = score[..., 1] > threshold\n",
    "    cm += confusion_matrix(pi, pi_star)\n",
    "print_cm(cm)"
   ]
  },
  {
   "cell_type": "code",
   "execution_count": 22,
   "metadata": {},
   "outputs": [
    {
     "name": "stdout",
     "output_type": "stream",
     "text": [
      "viterbi\n",
      "tn: 401672, fp: 114822, fn: 123384, tp: 417609\n"
     ]
    }
   ],
   "source": [
    "print(\"viterbi\")\n",
    "cm = np.zeros((2, 2), dtype=int)\n",
    "for x, pi in data:\n",
    "    pi_star = viterbi(x,\n",
    "                      single_freq_islands, single_freq_nonislands,\n",
    "                      double_freq_islands, double_freq_nonislands,\n",
    "                      transition_matrix)\n",
    "    cm += confusion_matrix(pi, pi_star)\n",
    "print_cm(cm)"
   ]
  },
  {
   "cell_type": "markdown",
   "metadata": {},
   "source": [
    "`forward backward` с порогом `0.55` работает лучше, чем `viterbi` (и по `tp` и по `tn`), так же есть возможность выбирать какие `tp, tn` нас устраивают больше в конкретном случае."
   ]
  }
 ],
 "metadata": {
  "kernelspec": {
   "display_name": "Python 3",
   "language": "python",
   "name": "python3"
  },
  "language_info": {
   "codemirror_mode": {
    "name": "ipython",
    "version": 3
   },
   "file_extension": ".py",
   "mimetype": "text/x-python",
   "name": "python",
   "nbconvert_exporter": "python",
   "pygments_lexer": "ipython3",
   "version": "3.8.5"
  }
 },
 "nbformat": 4,
 "nbformat_minor": 4
}
